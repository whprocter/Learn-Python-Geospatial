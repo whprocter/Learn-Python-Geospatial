{
 "cells": [
  {
   "cell_type": "code",
   "execution_count": 1,
   "id": "0609fd27-bbb6-4c4e-9fec-9f67d18d3926",
   "metadata": {
    "tags": []
   },
   "outputs": [
    {
     "name": "stdout",
     "output_type": "stream",
     "text": [
      "Defaulting to user installation because normal site-packages is not writeable"
     ]
    },
    {
     "name": "stderr",
     "output_type": "stream",
     "text": [
      "  WARNING: The script pyproj.exe is installed in 'C:\\Users\\josephh\\AppData\\Roaming\\Python\\Python311\\Scripts' which is not on PATH.\n",
      "  Consider adding this directory to PATH or, if you prefer to suppress this warning, use --no-warn-script-location.\n",
      "  WARNING: The script fio.exe is installed in 'C:\\Users\\josephh\\AppData\\Roaming\\Python\\Python311\\Scripts' which is not on PATH.\n",
      "  Consider adding this directory to PATH or, if you prefer to suppress this warning, use --no-warn-script-location.\n"
     ]
    },
    {
     "name": "stdout",
     "output_type": "stream",
     "text": [
      "\n",
      "Requirement already satisfied: pandas in c:\\programdata\\anaconda3\\lib\\site-packages (from -r requirements.txt (line 1)) (2.0.3)\n",
      "Collecting geopandas (from -r requirements.txt (line 2))\n",
      "  Obtaining dependency information for geopandas from https://files.pythonhosted.org/packages/27/27/2687abaa2ac02b5814e2929a5033da1e5d132c19a904dc56f77f63fd6eb9/geopandas-0.14.0-py3-none-any.whl.metadata\n",
      "  Downloading geopandas-0.14.0-py3-none-any.whl.metadata (1.5 kB)\n",
      "Requirement already satisfied: numpy in c:\\programdata\\anaconda3\\lib\\site-packages (from -r requirements.txt (line 3)) (1.24.3)\n",
      "Collecting libpysal (from -r requirements.txt (line 4))\n",
      "  Obtaining dependency information for libpysal from https://files.pythonhosted.org/packages/c4/ba/6e8cc7b07870d410e23d0776aeaaed55532e34776c7ca11f417371ce6af5/libpysal-4.8.0-py3-none-any.whl.metadata\n",
      "  Downloading libpysal-4.8.0-py3-none-any.whl.metadata (4.6 kB)\n",
      "Requirement already satisfied: matplotlib in c:\\programdata\\anaconda3\\lib\\site-packages (from -r requirements.txt (line 5)) (3.7.2)\n",
      "Collecting mapclassify (from -r requirements.txt (line 6))\n",
      "  Obtaining dependency information for mapclassify from https://files.pythonhosted.org/packages/3f/f1/8db36df379703311c16e5341b408dad04e34cfded66f38e351c380fbd5ae/mapclassify-2.6.1-py3-none-any.whl.metadata\n",
      "  Downloading mapclassify-2.6.1-py3-none-any.whl.metadata (2.6 kB)\n",
      "Collecting geodatasets (from -r requirements.txt (line 7))\n",
      "  Downloading geodatasets-2023.3.0-py3-none-any.whl (17 kB)\n",
      "Requirement already satisfied: python-dateutil>=2.8.2 in c:\\programdata\\anaconda3\\lib\\site-packages (from pandas->-r requirements.txt (line 1)) (2.8.2)\n",
      "Requirement already satisfied: pytz>=2020.1 in c:\\programdata\\anaconda3\\lib\\site-packages (from pandas->-r requirements.txt (line 1)) (2023.3.post1)\n",
      "Requirement already satisfied: tzdata>=2022.1 in c:\\programdata\\anaconda3\\lib\\site-packages (from pandas->-r requirements.txt (line 1)) (2023.3)\n",
      "Collecting fiona>=1.8.21 (from geopandas->-r requirements.txt (line 2))\n",
      "  Obtaining dependency information for fiona>=1.8.21 from https://files.pythonhosted.org/packages/7f/27/b24c1610c7ae5716709321f04d38d7b8b71ed531f80df4f697b9ad99cfc3/fiona-1.9.5-cp311-cp311-win_amd64.whl.metadata\n",
      "  Downloading fiona-1.9.5-cp311-cp311-win_amd64.whl.metadata (51 kB)\n",
      "     ---------------------------------------- 0.0/51.1 kB ? eta -:--:--\n",
      "     ------------------------------ ------- 41.0/51.1 kB 991.0 kB/s eta 0:00:01\n",
      "     ---------------------------------------- 51.1/51.1 kB 1.3 MB/s eta 0:00:00\n",
      "Requirement already satisfied: packaging in c:\\programdata\\anaconda3\\lib\\site-packages (from geopandas->-r requirements.txt (line 2)) (23.1)\n",
      "Collecting pyproj>=3.3.0 (from geopandas->-r requirements.txt (line 2))\n",
      "  Obtaining dependency information for pyproj>=3.3.0 from https://files.pythonhosted.org/packages/79/95/eb68113c5b5737c342bde1bab92705dabe69c16299c5a122616e50f1fbd6/pyproj-3.6.1-cp311-cp311-win_amd64.whl.metadata\n",
      "  Downloading pyproj-3.6.1-cp311-cp311-win_amd64.whl.metadata (31 kB)\n",
      "Collecting shapely>=1.8.0 (from geopandas->-r requirements.txt (line 2))\n",
      "  Obtaining dependency information for shapely>=1.8.0 from https://files.pythonhosted.org/packages/9e/39/029c441d8af32ab423b229c4525ce5ce6707318155b59634811a4c56f5c4/shapely-2.0.2-cp311-cp311-win_amd64.whl.metadata\n",
      "  Downloading shapely-2.0.2-cp311-cp311-win_amd64.whl.metadata (7.2 kB)\n",
      "Requirement already satisfied: platformdirs>=2.0.2 in c:\\programdata\\anaconda3\\lib\\site-packages (from libpysal->-r requirements.txt (line 4)) (3.10.0)\n",
      "Requirement already satisfied: beautifulsoup4>=4.10 in c:\\programdata\\anaconda3\\lib\\site-packages (from libpysal->-r requirements.txt (line 4)) (4.12.2)\n",
      "Requirement already satisfied: requests in c:\\programdata\\anaconda3\\lib\\site-packages (from libpysal->-r requirements.txt (line 4)) (2.31.0)\n",
      "Requirement already satisfied: scipy>=1.8 in c:\\programdata\\anaconda3\\lib\\site-packages (from libpysal->-r requirements.txt (line 4)) (1.11.1)\n",
      "Requirement already satisfied: contourpy>=1.0.1 in c:\\programdata\\anaconda3\\lib\\site-packages (from matplotlib->-r requirements.txt (line 5)) (1.0.5)\n",
      "Requirement already satisfied: cycler>=0.10 in c:\\programdata\\anaconda3\\lib\\site-packages (from matplotlib->-r requirements.txt (line 5)) (0.11.0)\n",
      "Requirement already satisfied: fonttools>=4.22.0 in c:\\programdata\\anaconda3\\lib\\site-packages (from matplotlib->-r requirements.txt (line 5)) (4.25.0)\n",
      "Requirement already satisfied: kiwisolver>=1.0.1 in c:\\programdata\\anaconda3\\lib\\site-packages (from matplotlib->-r requirements.txt (line 5)) (1.4.4)\n",
      "Requirement already satisfied: pillow>=6.2.0 in c:\\programdata\\anaconda3\\lib\\site-packages (from matplotlib->-r requirements.txt (line 5)) (9.4.0)\n",
      "Requirement already satisfied: pyparsing<3.1,>=2.3.1 in c:\\programdata\\anaconda3\\lib\\site-packages (from matplotlib->-r requirements.txt (line 5)) (3.0.9)\n",
      "Requirement already satisfied: networkx>=2.7 in c:\\programdata\\anaconda3\\lib\\site-packages (from mapclassify->-r requirements.txt (line 6)) (3.1)\n",
      "Requirement already satisfied: scikit-learn>=1.0 in c:\\programdata\\anaconda3\\lib\\site-packages (from mapclassify->-r requirements.txt (line 6)) (1.3.0)\n",
      "Collecting pooch (from geodatasets->-r requirements.txt (line 7))\n",
      "  Downloading pooch-1.7.0-py3-none-any.whl (60 kB)\n",
      "     ---------------------------------------- 0.0/60.9 kB ? eta -:--:--\n",
      "     ---------------------------------------- 60.9/60.9 kB ? eta 0:00:00\n",
      "Requirement already satisfied: soupsieve>1.2 in c:\\programdata\\anaconda3\\lib\\site-packages (from beautifulsoup4>=4.10->libpysal->-r requirements.txt (line 4)) (2.4)\n",
      "Requirement already satisfied: attrs>=19.2.0 in c:\\programdata\\anaconda3\\lib\\site-packages (from fiona>=1.8.21->geopandas->-r requirements.txt (line 2)) (22.1.0)\n",
      "Requirement already satisfied: certifi in c:\\programdata\\anaconda3\\lib\\site-packages (from fiona>=1.8.21->geopandas->-r requirements.txt (line 2)) (2023.7.22)\n",
      "Requirement already satisfied: click~=8.0 in c:\\programdata\\anaconda3\\lib\\site-packages (from fiona>=1.8.21->geopandas->-r requirements.txt (line 2)) (8.0.4)\n",
      "Collecting click-plugins>=1.0 (from fiona>=1.8.21->geopandas->-r requirements.txt (line 2))\n",
      "  Downloading click_plugins-1.1.1-py2.py3-none-any.whl (7.5 kB)\n",
      "Collecting cligj>=0.5 (from fiona>=1.8.21->geopandas->-r requirements.txt (line 2))\n",
      "  Downloading cligj-0.7.2-py3-none-any.whl (7.1 kB)\n",
      "Requirement already satisfied: six in c:\\programdata\\anaconda3\\lib\\site-packages (from fiona>=1.8.21->geopandas->-r requirements.txt (line 2)) (1.16.0)\n",
      "Requirement already satisfied: setuptools in c:\\programdata\\anaconda3\\lib\\site-packages (from fiona>=1.8.21->geopandas->-r requirements.txt (line 2)) (68.0.0)\n",
      "Requirement already satisfied: joblib>=1.1.1 in c:\\programdata\\anaconda3\\lib\\site-packages (from scikit-learn>=1.0->mapclassify->-r requirements.txt (line 6)) (1.2.0)\n",
      "Requirement already satisfied: threadpoolctl>=2.0.0 in c:\\programdata\\anaconda3\\lib\\site-packages (from scikit-learn>=1.0->mapclassify->-r requirements.txt (line 6)) (2.2.0)\n",
      "Requirement already satisfied: charset-normalizer<4,>=2 in c:\\programdata\\anaconda3\\lib\\site-packages (from requests->libpysal->-r requirements.txt (line 4)) (2.0.4)\n",
      "Requirement already satisfied: idna<4,>=2.5 in c:\\programdata\\anaconda3\\lib\\site-packages (from requests->libpysal->-r requirements.txt (line 4)) (3.4)\n",
      "Requirement already satisfied: urllib3<3,>=1.21.1 in c:\\programdata\\anaconda3\\lib\\site-packages (from requests->libpysal->-r requirements.txt (line 4)) (1.26.16)\n",
      "Requirement already satisfied: colorama in c:\\programdata\\anaconda3\\lib\\site-packages (from click~=8.0->fiona>=1.8.21->geopandas->-r requirements.txt (line 2)) (0.4.6)\n",
      "Downloading geopandas-0.14.0-py3-none-any.whl (1.1 MB)\n",
      "   ---------------------------------------- 0.0/1.1 MB ? eta -:--:--\n",
      "   --------- ------------------------------ 0.3/1.1 MB 8.3 MB/s eta 0:00:01\n",
      "   ----------------------- ---------------- 0.7/1.1 MB 6.9 MB/s eta 0:00:01\n",
      "   ---------------------------------------  1.1/1.1 MB 7.7 MB/s eta 0:00:01\n",
      "   ---------------------------------------- 1.1/1.1 MB 7.8 MB/s eta 0:00:00\n",
      "Downloading libpysal-4.8.0-py3-none-any.whl (2.8 MB)\n",
      "   ---------------------------------------- 0.0/2.8 MB ? eta -:--:--\n",
      "   ------- -------------------------------- 0.5/2.8 MB 16.5 MB/s eta 0:00:01\n",
      "   ------------------ --------------------- 1.3/2.8 MB 16.4 MB/s eta 0:00:01\n",
      "   --------------------------------- ------ 2.3/2.8 MB 18.3 MB/s eta 0:00:01\n",
      "   ---------------------------------------- 2.8/2.8 MB 17.8 MB/s eta 0:00:00\n",
      "Downloading mapclassify-2.6.1-py3-none-any.whl (38 kB)\n",
      "Downloading fiona-1.9.5-cp311-cp311-win_amd64.whl (22.9 MB)\n",
      "   ---------------------------------------- 0.0/22.9 MB ? eta -:--:--\n",
      "   -- ------------------------------------- 1.4/22.9 MB 44.3 MB/s eta 0:00:01\n",
      "   ----- ---------------------------------- 3.2/22.9 MB 41.0 MB/s eta 0:00:01\n",
      "   --------- ------------------------------ 5.6/22.9 MB 44.6 MB/s eta 0:00:01\n",
      "   --------------- ------------------------ 8.7/22.9 MB 50.5 MB/s eta 0:00:01\n",
      "   ---------------------- ----------------- 12.6/22.9 MB 65.6 MB/s eta 0:00:01\n",
      "   ------------------------------ --------- 17.2/22.9 MB 81.8 MB/s eta 0:00:01\n",
      "   --------------------------------- ------ 19.2/22.9 MB 73.1 MB/s eta 0:00:01\n",
      "   ---------------------------------------  22.9/22.9 MB 81.8 MB/s eta 0:00:01\n",
      "   ---------------------------------------  22.9/22.9 MB 81.8 MB/s eta 0:00:01\n",
      "   ---------------------------------------- 22.9/22.9 MB 54.4 MB/s eta 0:00:00\n",
      "Downloading pyproj-3.6.1-cp311-cp311-win_amd64.whl (6.1 MB)\n",
      "   ---------------------------------------- 0.0/6.1 MB ? eta -:--:--\n",
      "   --------------------------- ------------ 4.2/6.1 MB 133.8 MB/s eta 0:00:01\n",
      "   ---------------------------------------  6.1/6.1 MB 97.9 MB/s eta 0:00:01\n",
      "   ---------------------------------------- 6.1/6.1 MB 77.9 MB/s eta 0:00:00\n",
      "Downloading shapely-2.0.2-cp311-cp311-win_amd64.whl (1.4 MB)\n",
      "   ---------------------------------------- 0.0/1.4 MB ? eta -:--:--\n",
      "   ---------------------------------------- 1.4/1.4 MB 89.2 MB/s eta 0:00:00\n",
      "Installing collected packages: shapely, pyproj, pooch, cligj, click-plugins, mapclassify, geodatasets, fiona, geopandas, libpysal\n",
      "Successfully installed click-plugins-1.1.1 cligj-0.7.2 fiona-1.9.5 geodatasets-2023.3.0 geopandas-0.14.0 libpysal-4.8.0 mapclassify-2.6.1 pooch-1.7.0 pyproj-3.6.1 shapely-2.0.2\n"
     ]
    }
   ],
   "source": [
    "!pip install -r requirements.txt"
   ]
  },
  {
   "cell_type": "code",
   "execution_count": null,
   "id": "e25eba6d-e342-4d9c-8581-254233bb7117",
   "metadata": {},
   "outputs": [],
   "source": []
  }
 ],
 "metadata": {
  "kernelspec": {
   "display_name": "Python 3 (ipykernel)",
   "language": "python",
   "name": "python3"
  },
  "language_info": {
   "codemirror_mode": {
    "name": "ipython",
    "version": 3
   },
   "file_extension": ".py",
   "mimetype": "text/x-python",
   "name": "python",
   "nbconvert_exporter": "python",
   "pygments_lexer": "ipython3",
   "version": "3.9.18"
  }
 },
 "nbformat": 4,
 "nbformat_minor": 5
}
